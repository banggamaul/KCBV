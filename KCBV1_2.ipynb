{
  "nbformat": 4,
  "nbformat_minor": 0,
  "metadata": {
    "colab": {
      "name": "KCBV1-2.ipynb",
      "provenance": [],
      "authorship_tag": "ABX9TyNf314fF7gM3eI4v2cmxwlx",
      "include_colab_link": true
    },
    "kernelspec": {
      "name": "python3",
      "display_name": "Python 3"
    },
    "language_info": {
      "name": "python"
    }
  },
  "cells": [
    {
      "cell_type": "markdown",
      "metadata": {
        "id": "view-in-github",
        "colab_type": "text"
      },
      "source": [
        "<a href=\"https://colab.research.google.com/github/banggamaul/KCBV/blob/main/KCBV1_2.ipynb\" target=\"_parent\"><img src=\"https://colab.research.google.com/assets/colab-badge.svg\" alt=\"Open In Colab\"/></a>"
      ]
    },
    {
      "cell_type": "code",
      "execution_count": 2,
      "metadata": {
        "colab": {
          "base_uri": "https://localhost:8080/"
        },
        "id": "UFBVh72G-nkL",
        "outputId": "0f00c63b-e621-4da4-f53b-e94e9d1d804c"
      },
      "outputs": [
        {
          "output_type": "stream",
          "name": "stdout",
          "text": [
            "sembilan lebih besar dari tujuh\n"
          ]
        }
      ],
      "source": [
        "nilai = 9\n",
        "if (nilai > 7):\n",
        "  print('sembilan lebih besar dari tujuh')\n",
        "if (nilai > 10):\n",
        "  print('sembilan lebih besar dari sepuluh')"
      ]
    },
    {
      "cell_type": "code",
      "source": [
        "nilai = 3\n",
        "if (nilai > 7):\n",
        "  print('selamat anda lulus')\n",
        "else:\n",
        "  print('maaf anda tidak lulus')"
      ],
      "metadata": {
        "colab": {
          "base_uri": "https://localhost:8080/"
        },
        "id": "RqE1ECGT_DJw",
        "outputId": "92ac965d-fda7-439a-a2a2-1d2e8574af72"
      },
      "execution_count": 3,
      "outputs": [
        {
          "output_type": "stream",
          "name": "stdout",
          "text": [
            "maaf anda tidak lulus\n"
          ]
        }
      ]
    },
    {
      "cell_type": "code",
      "source": [
        "hari_ini = 'minggu'\n",
        "\n",
        "if(hari_ini == 'senin'):\n",
        "  print('hari senin saya akan kuliah')\n",
        "elif(hari_ini == 'selasa'):\n",
        "  print('hari selasa saya akan kuliah')\n",
        "elif(hari_ini == 'rabu'):\n",
        "  print('hari rabu saya akan kuliah')\n",
        "elif(hari_ini == 'kamis'):\n",
        "  print('hari kamis saya akan kuliah')\n",
        "elif(hari_ini == 'jumat'):\n",
        "  print('hari jumat saya akan kuliah')\n",
        "elif(hari_ini == 'sabtu'):\n",
        "  print('hari sabtu saya libur kuliah')\n",
        "elif(hari_ini == 'minggu'):\n",
        "  print('hari minggu saya libur kuliah')"
      ],
      "metadata": {
        "colab": {
          "base_uri": "https://localhost:8080/"
        },
        "id": "8mbU-_5z_azY",
        "outputId": "b0c2323c-d776-4ea8-e072-4ce4aa022bcb"
      },
      "execution_count": 5,
      "outputs": [
        {
          "output_type": "stream",
          "name": "stdout",
          "text": [
            "hari minggu saya libur kuliah\n"
          ]
        }
      ]
    },
    {
      "cell_type": "code",
      "source": [
        ""
      ],
      "metadata": {
        "id": "XzI6yltkBlfn"
      },
      "execution_count": null,
      "outputs": []
    }
  ]
}